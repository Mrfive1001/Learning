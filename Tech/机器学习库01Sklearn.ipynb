{
 "cells": [
  {
   "cell_type": "markdown",
   "metadata": {},
   "source": [
    "# Sklearn学习记录\n",
    "Sklearn作为python机器学习领域举足轻重的库，在人工智能很火的今天，也受到了广泛的关注。Sklearn其中包含了数据预处理、特征选取、模型选择、交叉验证、聚类等方面的函数，确实非常的强大。首先照例导入老相识库。"
   ]
  },
  {
   "cell_type": "code",
   "execution_count": 1,
   "metadata": {},
   "outputs": [],
   "source": [
    "import numpy as np\n",
    "import matplotlib.pyplot as plt"
   ]
  },
  {
   "cell_type": "markdown",
   "metadata": {},
   "source": [
    "## 1、数据预处理\n",
    "数据预处理指的是将原始数据通过一定的处理变成机器学习算法的输入，一般来说，数据预处理决定了算法准确率的上界，因此这在机器学习中是非常重要的一部分。主要分为标准化、二值化、缺失值处理。\n",
    "### 标准化\n",
    "标准化对于很对机器学习都很重要，它指的是通过平移中心、除以方差得到平均值为0、方差为1的标准正态分布。这里不介绍直接使用函数的用法，介绍sklearn中常用的将其作为一个对象处理的方法。"
   ]
  },
  {
   "cell_type": "code",
   "execution_count": 2,
   "metadata": {},
   "outputs": [],
   "source": [
    "from sklearn import preprocessing"
   ]
  },
  {
   "cell_type": "code",
   "execution_count": 3,
   "metadata": {},
   "outputs": [
    {
     "data": {
      "text/plain": [
       "StandardScaler(copy=True, with_mean=True, with_std=True)"
      ]
     },
     "execution_count": 3,
     "metadata": {},
     "output_type": "execute_result"
    }
   ],
   "source": [
    "X_train = np.array([[ 1., -1.,  2.],\n",
    "                    [ 2.,  0.,  0.],\n",
    "                    [ 0.,  1., -1.]])\n",
    "# 通过设置参数也可只平移或缩放\n",
    "standard_scaler = preprocessing.StandardScaler().fit(X_train)\n",
    "standard_scaler"
   ]
  },
  {
   "cell_type": "code",
   "execution_count": 4,
   "metadata": {},
   "outputs": [
    {
     "data": {
      "text/plain": [
       "array([[ 0.        , -1.22474487,  1.33630621],\n",
       "       [ 1.22474487,  0.        , -0.26726124],\n",
       "       [-1.22474487,  1.22474487, -1.06904497]])"
      ]
     },
     "execution_count": 4,
     "metadata": {},
     "output_type": "execute_result"
    }
   ],
   "source": [
    "standard_scaler.transform(X_train)"
   ]
  },
  {
   "cell_type": "markdown",
   "metadata": {},
   "source": [
    "除此之外，通常也有将数据缩放到某个范围的需要，这时可以用MinMaxScaler或者MaxAbsScaler(后者是绝对值缩放)。"
   ]
  },
  {
   "cell_type": "code",
   "execution_count": 5,
   "metadata": {},
   "outputs": [
    {
     "data": {
      "text/plain": [
       "array([[2.        , 0.        , 4.        ],\n",
       "       [4.        , 2.        , 1.33333333],\n",
       "       [0.        , 4.        , 0.        ]])"
      ]
     },
     "execution_count": 5,
     "metadata": {},
     "output_type": "execute_result"
    }
   ],
   "source": [
    "X_train = np.array([[ 1., -1.,  2.],\n",
    "                    [ 2.,  0.,  0.],\n",
    "                    [ 0.,  1., -1.]])\n",
    "min_max_scaler = preprocessing.MinMaxScaler([0,4])\n",
    "X_train_minmax = min_max_scaler.fit_transform(X_train)\n",
    "X_train_minmax"
   ]
  },
  {
   "cell_type": "markdown",
   "metadata": {},
   "source": [
    "### 二值化\n",
    "二值化是将连续的数值特征转换为0-1两种类型的数据的过程，主要的参数是阈值threshold。"
   ]
  },
  {
   "cell_type": "code",
   "execution_count": 6,
   "metadata": {},
   "outputs": [
    {
     "data": {
      "text/plain": [
       "array([[1., 0., 1.],\n",
       "       [1., 0., 0.],\n",
       "       [0., 1., 0.]])"
      ]
     },
     "execution_count": 6,
     "metadata": {},
     "output_type": "execute_result"
    }
   ],
   "source": [
    "X = [[ 1., -1.,  2.],\n",
    "     [ 2.,  0.,  0.],\n",
    "     [ 0.,  1., -1.]]\n",
    "binarizer = preprocessing.Binarizer().fit(X)\n",
    "binarizer.transform(X)"
   ]
  },
  {
   "cell_type": "markdown",
   "metadata": {},
   "source": [
    "### 类别编码\n",
    "类别编码主要是用来处理文本数据，将文本数据转化为不同的数字。类别编码分为两种，第一种是每个类别用一个数字表示，一个特征处理后的数据仍然是一列数据，第二种是one-hot编码，每个类别变为一个特征。"
   ]
  },
  {
   "cell_type": "code",
   "execution_count": 7,
   "metadata": {},
   "outputs": [
    {
     "data": {
      "text/plain": [
       "array([2, 2, 1], dtype=int64)"
      ]
     },
     "execution_count": 7,
     "metadata": {},
     "output_type": "execute_result"
    }
   ],
   "source": [
    "le = preprocessing.LabelEncoder()\n",
    "le.fit([\"paris\", \"paris\", \"tokyo\", \"amsterdam\"])\n",
    "le.transform([\"tokyo\", \"tokyo\", \"paris\"])"
   ]
  },
  {
   "cell_type": "code",
   "execution_count": 8,
   "metadata": {},
   "outputs": [
    {
     "data": {
      "text/plain": [
       "array([[0, 0, 1],\n",
       "       [0, 0, 1],\n",
       "       [0, 1, 0]])"
      ]
     },
     "execution_count": 8,
     "metadata": {},
     "output_type": "execute_result"
    }
   ],
   "source": [
    "lb = preprocessing.LabelBinarizer()\n",
    "lb.fit([\"paris\", \"paris\", \"tokyo\", \"amsterdam\"])\n",
    "lb.transform([\"tokyo\", \"tokyo\", \"paris\"])"
   ]
  },
  {
   "cell_type": "markdown",
   "metadata": {},
   "source": [
    "值得注意的是这两个函数也能够处理int类型的变量，比oneHoter功能较强。但是这两个均一次只能够处理一列数据，因此对整个数据集处理需要循环。新版本0.20的CategoricalEncoder扩展了这两个功能。"
   ]
  },
  {
   "cell_type": "markdown",
   "metadata": {},
   "source": [
    "### 缺失数据处理\n",
    "实际上这一步应该在最开始介绍，因为缺失数据可能会影响一些预处理算法的正常运行。处理缺失数据最简单的方法是丢失有缺失值的行或者列，这样简单粗暴的方法也会丢掉一些有用信息。因此比较常用的方法是利用中位数、平均数或者出现频率最高的数字来填充。"
   ]
  },
  {
   "cell_type": "code",
   "execution_count": 9,
   "metadata": {},
   "outputs": [
    {
     "name": "stdout",
     "output_type": "stream",
     "text": [
      "[[4.         2.        ]\n",
      " [6.         3.66666667]\n",
      " [7.         6.        ]]\n"
     ]
    }
   ],
   "source": [
    "imp = preprocessing.Imputer(missing_values='NaN', strategy='mean', axis=0)\n",
    "imp.fit([[1, 2], [np.nan, 3], [7, 6]])\n",
    "X = [[np.nan, 2], [6, np.nan], [7, 6]]\n",
    "print(imp.transform(X))                 "
   ]
  },
  {
   "cell_type": "markdown",
   "metadata": {},
   "source": [
    "这样简单的数字数据的缺失问题就得到了解决，但是字符类型的缺失问题并没有解决。字符类型的一般需要使用Pandas来解决。"
   ]
  },
  {
   "cell_type": "markdown",
   "metadata": {},
   "source": [
    "## 2、特征提取\n",
    "在进行完机器学习最麻烦的预处理之后(个人认为),我们需要选择有意义的特征输入机器学习的算法和模型进行训练。通常来说，从特征是否发散和特征与目标的相关性来进行选择。  \n",
    "* 单变量因素分析：通过一定的指标来判断单个特征与目标值的关联关系，这里可以利用卡方分布，F值等指标，互信息指标。\n",
    "    * 回归指标：f_regression,mutual_info_regression\n",
    "    * 分类指标：卡方分布chi2 ,f_classif, mutual_info_classif\n",
    "* 递归特征消除： 利用一个模型来评价每个特征的权重，删除不重要的一个，然后继续迭代\n",
    "* 利用模型直接消除： 利用一个模型来评价每个特征的重要性，删除重要性低于阈值的特征"
   ]
  },
  {
   "cell_type": "code",
   "execution_count": 10,
   "metadata": {},
   "outputs": [],
   "source": [
    "from sklearn import datasets"
   ]
  },
  {
   "cell_type": "code",
   "execution_count": 11,
   "metadata": {
    "scrolled": true
   },
   "outputs": [
    {
     "data": {
      "text/plain": [
       "((1797, 64), (1797,))"
      ]
     },
     "execution_count": 11,
     "metadata": {},
     "output_type": "execute_result"
    }
   ],
   "source": [
    "# 从数据集中得到手写数字识别数据和目标\n",
    "X = datasets.load_digits()['data']\n",
    "Y = datasets.load_digits()['target']\n",
    "(X.shape,Y.shape)"
   ]
  },
  {
   "cell_type": "code",
   "execution_count": 12,
   "metadata": {},
   "outputs": [
    {
     "data": {
      "text/plain": [
       "array([0.        , 0.14120498, 0.3707164 , 0.1941337 , 0.15140587,\n",
       "       0.25471565, 0.19489996, 0.03661306, 0.00101285, 0.2808442 ,\n",
       "       0.33928455, 0.13923242, 0.18945522, 0.34258656, 0.14226452,\n",
       "       0.01062065, 0.        , 0.16635666, 0.25401044, 0.27412697,\n",
       "       0.36716099, 0.44267935, 0.22933705, 0.        , 0.        ,\n",
       "       0.25861679, 0.40714241, 0.26678509, 0.3885343 , 0.30943624,\n",
       "       0.4015582 , 0.02315389, 0.00244486, 0.41920534, 0.4473156 ,\n",
       "       0.30890697, 0.35854987, 0.26247734, 0.33611487, 0.04012269,\n",
       "       0.01429927, 0.28080319, 0.39868866, 0.39528717, 0.31216306,\n",
       "       0.16912318, 0.32176004, 0.02106102, 0.        , 0.05830372,\n",
       "       0.26623367, 0.27167508, 0.18002977, 0.32275494, 0.37804414,\n",
       "       0.09408823, 0.        , 0.07899824, 0.36541609, 0.23500028,\n",
       "       0.2754045 , 0.38913411, 0.26470638, 0.08786643])"
      ]
     },
     "execution_count": 12,
     "metadata": {},
     "output_type": "execute_result"
    }
   ],
   "source": [
    "# 1 单变量因素分析\n",
    "from sklearn.feature_selection import SelectKBest\n",
    "from sklearn.feature_selection import mutual_info_classif\n",
    "select = SelectKBest(mutual_info_classif,40)\n",
    "X_new = select.fit_transform(X,Y)\n",
    "select.scores_"
   ]
  },
  {
   "cell_type": "code",
   "execution_count": 13,
   "metadata": {},
   "outputs": [
    {
     "data": {
      "text/plain": [
       "(1797, 40)"
      ]
     },
     "execution_count": 13,
     "metadata": {},
     "output_type": "execute_result"
    }
   ],
   "source": [
    "# 最终选出了前40个特征\n",
    "X_new.shape"
   ]
  },
  {
   "cell_type": "code",
   "execution_count": 14,
   "metadata": {},
   "outputs": [
    {
     "data": {
      "text/plain": [
       "array([[ 0.,  5., 13., ...,  0.,  0.,  0.],\n",
       "       [ 0.,  0., 12., ..., 10.,  0.,  0.],\n",
       "       [ 0.,  0.,  4., ..., 16.,  9.,  0.],\n",
       "       ...,\n",
       "       [ 0.,  1., 11., ...,  6.,  0.,  0.],\n",
       "       [ 0.,  2., 10., ..., 12.,  0.,  0.],\n",
       "       [ 0., 10., 14., ..., 12.,  1.,  0.]])"
      ]
     },
     "execution_count": 14,
     "metadata": {},
     "output_type": "execute_result"
    }
   ],
   "source": [
    "# 2 递归特征消除法\n",
    "from sklearn import feature_selection\n",
    "from sklearn import linear_model\n",
    "select = feature_selection.RFE(estimator=linear_model.LogisticRegression(),n_features_to_select=40)\n",
    "select.fit_transform(X,Y)"
   ]
  },
  {
   "cell_type": "code",
   "execution_count": 15,
   "metadata": {},
   "outputs": [
    {
     "data": {
      "text/plain": [
       "array([25,  1,  1,  1,  1,  1,  1, 16,  1,  1, 15,  4,  1,  1,  1,  5, 14,\n",
       "        3,  1,  1,  1,  1,  1,  1, 10,  1,  1,  1,  1, 12,  1, 20, 24,  1,\n",
       "        1,  9,  1, 17,  1, 23, 22,  1,  1,  1,  1,  1,  1, 18, 19,  7,  8,\n",
       "        6,  1,  1,  1,  1, 21, 11,  2,  1, 13,  1,  1,  1])"
      ]
     },
     "execution_count": 15,
     "metadata": {},
     "output_type": "execute_result"
    }
   ],
   "source": [
    "select.ranking_\n",
    "# 最终选择的表示为1"
   ]
  },
  {
   "cell_type": "code",
   "execution_count": 16,
   "metadata": {},
   "outputs": [
    {
     "data": {
      "text/plain": [
       "(1797, 48)"
      ]
     },
     "execution_count": 16,
     "metadata": {},
     "output_type": "execute_result"
    }
   ],
   "source": [
    "# 3 直接使用模型 默认是阈值均值\n",
    "select = feature_selection.SelectFromModel(linear_model.LogisticRegression(penalty=\"l1\", C=0.1))\n",
    "X_new = select.fit_transform(X,Y)\n",
    "X_new.shape"
   ]
  },
  {
   "cell_type": "markdown",
   "metadata": {},
   "source": [
    "## 3、监督学习模型\n",
    "监督学习是机器学习中最普遍的一类学习方法，也就是学习X到Y的一个映射，常见的学习方法有，决策树、逻辑回归、SVM和一些集成学习方法。使用主要分为两个部分训练和测试。其实具体方法不需要介绍，只需要知道将处理好的模型先选定参数进行训练，然后得到结果(个人认为是最简单的一步)。"
   ]
  },
  {
   "cell_type": "code",
   "execution_count": 17,
   "metadata": {},
   "outputs": [],
   "source": [
    "# 将数据分为训练集和测试集\n",
    "from sklearn.model_selection import train_test_split\n",
    "X_train, X_test, y_train, y_test = train_test_split(X, Y, test_size=0.33)"
   ]
  },
  {
   "cell_type": "code",
   "execution_count": 18,
   "metadata": {},
   "outputs": [
    {
     "data": {
      "text/plain": [
       "KNeighborsClassifier(algorithm='auto', leaf_size=30, metric='minkowski',\n",
       "           metric_params=None, n_jobs=1, n_neighbors=5, p=2,\n",
       "           weights='uniform')"
      ]
     },
     "execution_count": 18,
     "metadata": {},
     "output_type": "execute_result"
    }
   ],
   "source": [
    "# 这里直接使用KNN最近邻方法来解决问题\n",
    "from sklearn.neighbors import KNeighborsClassifier\n",
    "model = KNeighborsClassifier()\n",
    "model.fit(X_train,y_train)"
   ]
  },
  {
   "cell_type": "markdown",
   "metadata": {},
   "source": [
    "如果对于一个算法我们有许多超参数需要调试，可以使用交叉验证来进行调参，有0.3比例的简单交叉验证，也可以使用K折交叉验证。"
   ]
  },
  {
   "cell_type": "code",
   "execution_count": 19,
   "metadata": {},
   "outputs": [
    {
     "data": {
      "text/plain": [
       "GridSearchCV(cv=3, error_score='raise',\n",
       "       estimator=KNeighborsClassifier(algorithm='auto', leaf_size=30, metric='minkowski',\n",
       "           metric_params=None, n_jobs=1, n_neighbors=5, p=2,\n",
       "           weights='uniform'),\n",
       "       fit_params=None, iid=True, n_jobs=1,\n",
       "       param_grid={'algorithm': ['auto', 'brute'], 'n_neighbors': array([5, 6, 7, 8, 9])},\n",
       "       pre_dispatch='2*n_jobs', refit=True, return_train_score='warn',\n",
       "       scoring=None, verbose=0)"
      ]
     },
     "execution_count": 19,
     "metadata": {},
     "output_type": "execute_result"
    }
   ],
   "source": [
    "from sklearn.model_selection import GridSearchCV\n",
    "# 定义要调试的参数\n",
    "par = {'n_neighbors':np.arange(5,10),'algorithm':['auto','brute']}\n",
    "grid = GridSearchCV(KNeighborsClassifier(),par,cv = 3)\n",
    "grid.fit(X_train,y_train)"
   ]
  },
  {
   "cell_type": "code",
   "execution_count": 20,
   "metadata": {},
   "outputs": [
    {
     "data": {
      "text/plain": [
       "array([0.97921862, 0.97256858, 0.9758936 , 0.97007481, 0.97007481,\n",
       "       0.97921862, 0.97256858, 0.9758936 , 0.97007481, 0.96924356])"
      ]
     },
     "execution_count": 20,
     "metadata": {},
     "output_type": "execute_result"
    }
   ],
   "source": [
    "# 得到测试分数\n",
    "grid.cv_results_['mean_test_score']"
   ]
  },
  {
   "cell_type": "code",
   "execution_count": 21,
   "metadata": {},
   "outputs": [
    {
     "data": {
      "text/plain": [
       "KNeighborsClassifier(algorithm='auto', leaf_size=30, metric='minkowski',\n",
       "           metric_params=None, n_jobs=1, n_neighbors=5, p=2,\n",
       "           weights='uniform')"
      ]
     },
     "execution_count": 21,
     "metadata": {},
     "output_type": "execute_result"
    }
   ],
   "source": [
    "# 得到表现最好的参数对应的模型\n",
    "model = grid.best_estimator_\n",
    "model"
   ]
  },
  {
   "cell_type": "markdown",
   "metadata": {},
   "source": [
    "## 4、模型评估\n",
    "得到了训练的模型之后，我们可以在测试集或者训练集对这个模型进行评价。首先可以使用K折交叉验证(每个都是先训练然后再验证)来评价模型的效果，或者学习曲线。"
   ]
  },
  {
   "cell_type": "code",
   "execution_count": 22,
   "metadata": {},
   "outputs": [],
   "source": [
    "from sklearn.model_selection import cross_validate\n",
    "from sklearn.model_selection import validation_curve"
   ]
  },
  {
   "cell_type": "code",
   "execution_count": 23,
   "metadata": {},
   "outputs": [
    {
     "name": "stderr",
     "output_type": "stream",
     "text": [
      "c:\\users\\zhouc\\appdata\\local\\programs\\python\\python35\\lib\\site-packages\\sklearn\\utils\\deprecation.py:122: FutureWarning: You are accessing a training score ('train_score'), which will not be available by default any more in 0.21. If you need training scores, please set return_train_score=True\n",
      "  warnings.warn(*warn_args, **warn_kwargs)\n"
     ]
    },
    {
     "data": {
      "text/plain": [
       "{'fit_time': array([0.00300527, 0.00200486, 0.00201297]),\n",
       " 'score_time': array([0.05665517, 0.05461693, 0.04962397]),\n",
       " 'test_score': array([0.97777778, 0.98503741, 0.97481108]),\n",
       " 'train_score': array([0.99122807, 0.98628429, 0.98883375])}"
      ]
     },
     "execution_count": 23,
     "metadata": {},
     "output_type": "execute_result"
    }
   ],
   "source": [
    "result = cross_validate(model,X_train,y_train)\n",
    "result"
   ]
  },
  {
   "cell_type": "markdown",
   "metadata": {},
   "source": [
    "学习曲线这个函数很有趣，是通过可视化的结果来观察某个参数和训练结果的关系。下面我们使用SVC(SVM的分类形式)来介绍一下画图。"
   ]
  },
  {
   "cell_type": "code",
   "execution_count": 24,
   "metadata": {},
   "outputs": [
    {
     "data": {
      "image/png": "[encoded data removed]",
      "text/plain": [
       "<Figure size 432x288 with 1 Axes>"
      ]
     },
     "metadata": {},
     "output_type": "display_data"
    }
   ],
   "source": [
    "from sklearn.svm import SVC\n",
    "param_range = np.logspace(-6, -1, 5)\n",
    "train_scores, test_scores = validation_curve(SVC(), X, Y, param_name=\"gamma\", param_range=param_range,cv=10, scoring=\"accuracy\")\n",
    "# 得到的训练结果是k折的，所以需要取一下平均\n",
    "train_scores_mean = np.mean(train_scores, axis=1)\n",
    "test_scores_mean = np.mean(test_scores, axis=1)\n",
    "plt.semilogx(param_range, train_scores_mean, label=\"Training score\")\n",
    "plt.semilogx(param_range, test_scores_mean, label=\"Cross-validation score\")\n",
    "plt.title(\"Validation Curve with SVM\")\n",
    "plt.xlabel(\"$\\gamma$\")\n",
    "plt.ylabel(\"Score\")\n",
    "plt.ylim(0.0, 1.1)\n",
    "plt.legend(loc=\"best\")\n",
    "plt.show()"
   ]
  },
  {
   "attachments": {
    "image.png": {
     "image/png": "[encoded data removed]"
    }
   },
   "cell_type": "markdown",
   "metadata": {},
   "source": [
    "我们接下来对结果进行进一步的指标衡量，sklearn.metrics模块包含分数、优劣的衡量。\n",
    "\n",
    "![image.png](attachment:image.png)"
   ]
  },
  {
   "cell_type": "code",
   "execution_count": 25,
   "metadata": {},
   "outputs": [
    {
     "data": {
      "text/plain": [
       "0.9814814814814815"
      ]
     },
     "execution_count": 25,
     "metadata": {},
     "output_type": "execute_result"
    }
   ],
   "source": [
    "# 分类衡量\n",
    "from sklearn import metrics\n",
    "metrics.accuracy_score(y_test,model.predict(X_test))"
   ]
  },
  {
   "cell_type": "code",
   "execution_count": 26,
   "metadata": {},
   "outputs": [
    {
     "name": "stdout",
     "output_type": "stream",
     "text": [
      "             precision    recall  f1-score   support\n",
      "\n",
      "          0       1.00      1.00      1.00        60\n",
      "          1       0.95      0.98      0.97        62\n",
      "          2       1.00      1.00      1.00        59\n",
      "          3       0.97      0.98      0.98        63\n",
      "          4       0.98      0.98      0.98        62\n",
      "          5       0.97      1.00      0.98        60\n",
      "          6       1.00      1.00      1.00        60\n",
      "          7       0.96      1.00      0.98        54\n",
      "          8       0.98      0.93      0.96        58\n",
      "          9       1.00      0.93      0.96        56\n",
      "\n",
      "avg / total       0.98      0.98      0.98       594\n",
      "\n"
     ]
    }
   ],
   "source": [
    "print(metrics.classification_report(y_test,model.predict(X_test)))"
   ]
  },
  {
   "cell_type": "markdown",
   "metadata": {},
   "source": [
    "## 5、聚类分析\n",
    "Sklearn.cluster包括许多流行的聚类算法。聚类属于非监督学习，是将类似的数据进行聚合的过程。输入需要分类的数据和分类数量，的到分类的结果，也可以对数据进行测试。这一块做得比较少，简单举个例子。"
   ]
  },
  {
   "cell_type": "code",
   "execution_count": 27,
   "metadata": {},
   "outputs": [
    {
     "data": {
      "text/plain": [
       "array([0, 0, 0, 1, 1, 1])"
      ]
     },
     "execution_count": 27,
     "metadata": {},
     "output_type": "execute_result"
    }
   ],
   "source": [
    "from sklearn.cluster import KMeans\n",
    "import numpy as np\n",
    "X = np.array([[1, 2], [1, 4], [1, 0],\n",
    "              [4, 2], [4, 4], [4, 0]])\n",
    "kmeans = KMeans(n_clusters=2, random_state=0).fit(X)\n",
    "kmeans.labels_"
   ]
  },
  {
   "cell_type": "code",
   "execution_count": 28,
   "metadata": {},
   "outputs": [
    {
     "data": {
      "text/plain": [
       "array([[1., 2.],\n",
       "       [4., 2.]])"
      ]
     },
     "execution_count": 28,
     "metadata": {},
     "output_type": "execute_result"
    }
   ],
   "source": [
    "kmeans.cluster_centers_"
   ]
  },
  {
   "cell_type": "markdown",
   "metadata": {},
   "source": [
    "## 6、总结\n",
    "Python数据分析相关的库有Numpy、Pandas、Matplotlib、Scipy、Sklearn和Tensorflow等等。库在不断地更新，也在不断地增加，对于我们使用者来说，没有办法顾全库的方方面面，因此我们需要有选择的学习库的使用。对我来说就是首先需要明确库的用途和场合，以便之后解决问题。其次对库的框架有一个清晰地了解，对每一部分的功能和基本概念有所了解。最后就是学习资料的搜集和整理（首选官方文档，之后是一些学习经验）。学习库不是目的，我们最终的目的是培养解决问题的思维和能力，知行合一。"
   ]
  }
 ],
 "metadata": {
  "kernelspec": {
   "display_name": "Python 3",
   "language": "python",
   "name": "python3"
  },
  "language_info": {
   "codemirror_mode": {
    "name": "ipython",
    "version": 3
   },
   "file_extension": ".py",
   "mimetype": "text/x-python",
   "name": "python",
   "nbconvert_exporter": "python",
   "pygments_lexer": "ipython3",
   "version": "3.5.2"
  }
 },
 "nbformat": 4,
 "nbformat_minor": 2
}
