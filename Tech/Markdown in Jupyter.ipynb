{
 "cells": [
  {
   "cell_type": "markdown",
   "metadata": {},
   "source": [
    "## 1.  标题\n",
    "使用# 、##、###表示一二三号标题，总共可以设置6级标题。\n",
    "## 2. 序号\n",
    "### 无序列表\n",
    "例如：\n",
    "* 贝叶斯\n",
    "* 逻辑回归\n",
    "* SVM\n",
    "### 有序列表\n",
    "1. 随机森林\n",
    "是一种集合方法\n",
    "2. boosting提升\n",
    "##3. 引用\n",
    "使用>代表引用，例如\n",
    "> 你要变成一个很厉害的人呢  \n",
    "\n",
    "## 4. 粗体和斜体\n",
    "使用两个*包含想要的粗体文字，一个*包含是斜体，注意这里没有空格\n",
    "**这里是粗体**\n",
    "*这里是斜体*\n",
    "## 5. 代码引用\n",
    "引用多行可以用``````来表示，注意是左上角的符号\n",
    "```\n",
    "第一行代码\n",
    "第二行代码\n",
    "```\n",
    "## 6. 图片和链接\n",
    "1. 链接使用[]()格式例如：\n",
    "[谷歌](https://www.google.com/webhp?hl=zh-CN&sa=X&ved=0ahUKEwihpZXP5P3VAhVHVbwKHXNHCKoQPAgD)\n",
    "2. 图片格式前面加一个！\n",
    "![漂亮](http://upload-images.jianshu.io/upload_images/259-0ad0d0bfc1c608b6.jpg?imageMogr2/auto-orient/strip%7CimageView2/2/w/1240)\n",
    "\n",
    "## 7.注意事项\n",
    "在Jupyter中如果换行的话需要打两个空格加回车  "
   ]
  },
  {
   "cell_type": "code",
   "execution_count": null,
   "metadata": {},
   "outputs": [],
   "source": [
    ""
   ]
  }
 ],
 "metadata": {
  "kernelspec": {
   "display_name": "Python 3",
   "language": "python",
   "name": "python3"
  },
  "language_info": {
   "codemirror_mode": {
    "name": "ipython",
    "version": 3.0
   },
   "file_extension": ".py",
   "mimetype": "text/x-python",
   "name": "python",
   "nbconvert_exporter": "python",
   "pygments_lexer": "ipython3",
   "version": "3.5.2"
  }
 },
 "nbformat": 4,
 "nbformat_minor": 0
}