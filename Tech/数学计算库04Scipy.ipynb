{
 "cells": [
  {
   "cell_type": "markdown",
   "metadata": {},
   "source": [
    "# Scipy学习记录\n",
    "Scipy是基于Numpy在科学计算领域非常强大的一个库。在优化、非线性方程求解、常微分方程等方面应用广泛，因此可以与Numpy、pandas、matplotlib结合来替代Matlab。本文介绍Scipy数据的输入输出和常用的一些模块。照旧导入相关库。"
   ]
  },
  {
   "cell_type": "code",
   "execution_count": 1,
   "metadata": {},
   "outputs": [],
   "source": [
    "import numpy as np\n",
    "import matplotlib.pyplot as plt"
   ]
  },
  {
   "cell_type": "markdown",
   "metadata": {},
   "source": [
    "## 1、基本数据\n",
    "基本的数据类型是采用numpy中的ndarray。另外Scipy比较特殊的一点是导入每个Scipy子模块需要from...import语句，不然直接使用会出错。Scipy除了一般的读取文件功能之外还能够读取和写入.mat文件，果然是为了让matlab用户更加适应呢。"
   ]
  },
  {
   "cell_type": "code",
   "execution_count": 2,
   "metadata": {},
   "outputs": [],
   "source": [
    "from scipy import io as sio"
   ]
  },
  {
   "cell_type": "code",
   "execution_count": 3,
   "metadata": {},
   "outputs": [],
   "source": [
    "data1 = np.arange(0,10)\n",
    "data2 = np.random.rand(3,4)\n",
    "# 以字典格式读入输入\n",
    "sio.savemat('my_data.mat',{'data1':data1,'data2':data2})\n",
    "sio.loadmat('my_data.mat')"
   ]
  },
  {
   "cell_type": "markdown",
   "metadata": {},
   "source": [
    "## 2、优化\n",
    "优化是很多科学计算的基础，例如机器学习各种方法、最优控制等，甚至求解方程也可以转化为优化问题。这一部分就介绍一下Scipy的优化模块。"
   ]
  },
  {
   "cell_type": "code",
   "execution_count": 4,
   "metadata": {},
   "outputs": [],
   "source": [
    "from scipy import optimize"
   ]
  },
  {
   "cell_type": "code",
   "execution_count": 5,
   "metadata": {},
   "outputs": [],
   "source": [
    "# 定义要优化的函数,输入优化变量和参数\n",
    "def f1(x,para):\n",
    "    return (x[0]**2+x[1]**2+para)\n",
    "res = optimize.minimize(f1,[10,10],args=(20),method = 'SLSQP')"
   ]
  },
  {
   "cell_type": "markdown",
   "metadata": {},
   "source": [
    "这样我们就解决了一个简单的无约束优化问题，可选择的优化方法也有很多('BFGS','SLSQP','Newton-CG'),得到的结果是一个对象，我们可以通过读取不同的属性来得到优化信息。"
   ]
  },
  {
   "cell_type": "code",
   "execution_count": 6,
   "metadata": {},
   "outputs": [
    {
     "data": {
      "text/plain": [
       "     fun: 20.0\n",
       "     jac: array([0., 0.])\n",
       " message: 'Optimization terminated successfully.'\n",
       "    nfev: 9\n",
       "     nit: 2\n",
       "    njev: 2\n",
       "  status: 0\n",
       " success: True\n",
       "       x: array([0., 0.])"
      ]
     },
     "execution_count": 6,
     "metadata": {},
     "output_type": "execute_result"
    }
   ],
   "source": [
    "res"
   ]
  },
  {
   "cell_type": "markdown",
   "metadata": {},
   "source": [
    "除了解决无约束优化问题，optimize模块同样可以对线性约束和非线性约束问题进行优化。同样是上面的问题，我们使用加上约束条件。"
   ]
  },
  {
   "cell_type": "code",
   "execution_count": 7,
   "metadata": {},
   "outputs": [],
   "source": [
    "def f_cons(x):\n",
    "    return np.exp(x)"
   ]
  },
  {
   "cell_type": "code",
   "execution_count": 8,
   "metadata": {},
   "outputs": [
    {
     "data": {
      "text/plain": [
       "(     fun: 70.00000000850284\n",
       "      jac: array([-9.9998703, 10.0001297])\n",
       "  message: 'Optimization terminated successfully.'\n",
       "     nfev: 22\n",
       "      nit: 5\n",
       "     njev: 5\n",
       "   status: 0\n",
       "  success: True\n",
       "        x: array([-4.9999348,  5.0000652]),      fun: 30.603795394109287\n",
       "      jac: array([4.60517001, 4.60517001])\n",
       "  message: 'Optimization terminated successfully.'\n",
       "     nfev: 149\n",
       "      nit: 26\n",
       "     njev: 22\n",
       "   status: 0\n",
       "  success: True\n",
       "        x: array([2.302585, 2.302585]))"
      ]
     },
     "execution_count": 8,
     "metadata": {},
     "output_type": "execute_result"
    }
   ],
   "source": [
    "# 求解同上 不等式是表示小于零的\n",
    "res1 = optimize.minimize(f1,[10,10],args=(20),method = 'SLSQP',constraints=({'type':'eq','fun':lambda x:x[0]-x[1]+10}))\n",
    "res2 = optimize.minimize(f1,[10,10],args=(20),method = 'SLSQP',constraints=\n",
    "                         ({'type':'ineq','fun':lambda x: f_cons(x)-10},{'type':'ineq','fun':lambda x:2-f_cons(x)}))\n",
    "res1,res2"
   ]
  },
  {
   "cell_type": "markdown",
   "metadata": {},
   "source": [
    "## 3、求解方程\n",
    "求解方程是科学计算领域的重要部分，上面的优化方法也可以求解方程，而Scipy中也有专门的函数来求解方程。求解方程方法fsolve()可以是多个等式的或者单个等式。"
   ]
  },
  {
   "cell_type": "code",
   "execution_count": 9,
   "metadata": {},
   "outputs": [
    {
     "data": {
      "text/plain": [
       "array([ 0.70622057, -0.6       , -2.5       ])"
      ]
     },
     "execution_count": 9,
     "metadata": {},
     "output_type": "execute_result"
    }
   ],
   "source": [
    "import math\n",
    "def f(x):\n",
    "    return [\n",
    "        5*x[1]+3,\n",
    "        4*x[0]**2 - 2*math.sin(x[1]*x[2]),\n",
    "        x[1]*x[2] - 1.5\n",
    "    ]\n",
    "res = optimize.fsolve(f,[2,1,1])\n",
    "res"
   ]
  },
  {
   "cell_type": "markdown",
   "metadata": {},
   "source": [
    "在看官方文档的时候看到了另一个返回信息更多的函数root，看官方的解释差不多是上个函数返回能找到的所有值，而这个利用迭代的方法找到一个解。"
   ]
  },
  {
   "cell_type": "code",
   "execution_count": 10,
   "metadata": {},
   "outputs": [
    {
     "data": {
      "text/plain": [
       "    fjac: array([[ 4.13852232e-14, -9.96895994e-01,  7.87297778e-02],\n",
       "       [ 9.64802886e-01,  2.07038946e-02,  2.62157854e-01],\n",
       "       [ 2.62974127e-01, -7.59587168e-02, -9.61808131e-01]])\n",
       "     fun: array([ 0.00000000e+00, -4.44089210e-15, -1.11022302e-15])\n",
       " message: 'The solution converged.'\n",
       "    nfev: 19\n",
       "     qtf: array([-1.90165780e-10,  1.58242735e-11, -5.80562995e-11])\n",
       "       r: array([-4.22657103,  2.34381095,  0.53357896,  5.18240573, -0.21091189,\n",
       "        0.77379626])\n",
       "  status: 1\n",
       " success: True\n",
       "       x: array([ 0.70622057, -0.6       , -2.5       ])"
      ]
     },
     "execution_count": 10,
     "metadata": {},
     "output_type": "execute_result"
    }
   ],
   "source": [
    "optimize.root(f,[2,1,1])"
   ]
  },
  {
   "cell_type": "markdown",
   "metadata": {},
   "source": [
    "## 4、数值积分\n",
    "利用Scipy也可以进行积分的运算和常微分方程的龙格库塔积分。"
   ]
  },
  {
   "cell_type": "code",
   "execution_count": 11,
   "metadata": {},
   "outputs": [
    {
     "data": {
      "text/plain": [
       "(21.333333333333336, 2.368475785867001e-13)"
      ]
     },
     "execution_count": 11,
     "metadata": {},
     "output_type": "execute_result"
    }
   ],
   "source": [
    "from scipy import integrate\n",
    "f1 = lambda x: x**2\n",
    "# 0到4的定积分，得到结果和预计误差\n",
    "integrate.quad(f1,0,4)"
   ]
  },
  {
   "cell_type": "code",
   "execution_count": 12,
   "metadata": {},
   "outputs": [
    {
     "data": {
      "text/plain": [
       "(1.0000000000000002, 5.842606703608969e-11)"
      ]
     },
     "execution_count": 12,
     "metadata": {},
     "output_type": "execute_result"
    }
   ],
   "source": [
    "invexp = lambda x: np.exp(-x)\n",
    "integrate.quad(invexp, 0, np.inf)"
   ]
  },
  {
   "cell_type": "markdown",
   "metadata": {},
   "source": [
    "龙格库塔积分是解决固定初值的一组常微分方程积分问题的方法。Scipy库中龙格库塔积分方法是变步长积分，可以设置最大步长。最近刚刚更新了RK45函数，但是没太看懂新的API的含义。这里仍然使用旧格式，但是仍然可以使用。"
   ]
  },
  {
   "cell_type": "code",
   "execution_count": 13,
   "metadata": {},
   "outputs": [
    {
     "data": {
      "text/plain": [
       "array([[ 3.04159265,  0.        ],\n",
       "       [ 3.03905676, -0.05021189],\n",
       "       [ 3.03140592, -0.10169818],\n",
       "       [ 3.01838288, -0.15701345],\n",
       "       [ 2.99946738, -0.21883071]])"
      ]
     },
     "execution_count": 13,
     "metadata": {},
     "output_type": "execute_result"
    }
   ],
   "source": [
    "def pend(y, t,b,c):\n",
    "    theta, omega = y\n",
    "    dydt = [omega, -b*omega - c*np.sin(theta)]\n",
    "    return dydt\n",
    "t = np.linspace(0,10,num=100)\n",
    "res_intep = integrate.odeint(pend,[np.pi - 0.1, 0.0],t,args=(0.25,5))\n",
    "res_intep[:5,:]"
   ]
  },
  {
   "cell_type": "code",
   "execution_count": 14,
   "metadata": {},
   "outputs": [
    {
     "data": {
      "image/png": "[encoded data removed]",
      "text/plain": [
       "<Figure size 432x288 with 1 Axes>"
      ]
     },
     "metadata": {},
     "output_type": "display_data"
    }
   ],
   "source": [
    "plt.plot(t, res_intep[:, 0], 'b', label='theta(t)')\n",
    "plt.plot(t, res_intep[:, 1], 'g', label='omega(t)')\n",
    "plt.grid()\n",
    "plt.show()"
   ]
  },
  {
   "cell_type": "markdown",
   "metadata": {},
   "source": [
    "## 5、插值\n",
    "插值也就是我们常说的拟合数据。简单的拟合是一维数据的拟合，类似于机器学习的训练和测试过程，拟合也需要先进行训练然后再插值计算。这里我们直接来拟合上面的图像,拟合有许多方法线性、立方、多项式，默认是线性。新版本的库中可以增加外插选项。"
   ]
  },
  {
   "cell_type": "code",
   "execution_count": 15,
   "metadata": {},
   "outputs": [
    {
     "data": {
      "image/png": "[encoded data removed]",
      "text/plain": [
       "<Figure size 432x288 with 1 Axes>"
      ]
     },
     "metadata": {},
     "output_type": "display_data"
    }
   ],
   "source": [
    "from scipy import interpolate\n",
    "a = interpolate.interp1d(t, res_intep[:,1],fill_value='extrapolate')\n",
    "plt.plot(t, a(t), 'b<')\n",
    "plt.plot(t, res_intep[:, 1], 'g*')\n",
    "plt.grid()\n",
    "plt.show()"
   ]
  },
  {
   "cell_type": "code",
   "execution_count": 16,
   "metadata": {},
   "outputs": [
    {
     "data": {
      "image/png": "[encoded data removed]",
      "text/plain": [
       "<Figure size 432x288 with 1 Axes>"
      ]
     },
     "metadata": {},
     "output_type": "display_data"
    }
   ],
   "source": [
    "x = np.arange(0, 10)\n",
    "y = np.exp(-x/3.0)\n",
    "f = interpolate.interp1d(x, y,fill_value='extrapolate')\n",
    "xnew = np.arange(0, 11, 0.1)\n",
    "ynew = f(xnew)   # use interpolation function returned by `interp1d`\n",
    "plt.plot(x, y, 'o', xnew, ynew, '-')\n",
    "plt.show()"
   ]
  }
 ],
 "metadata": {
  "kernelspec": {
   "display_name": "Python 3",
   "language": "python",
   "name": "python3"
  },
  "language_info": {
   "codemirror_mode": {
    "name": "ipython",
    "version": 3
   },
   "file_extension": ".py",
   "mimetype": "text/x-python",
   "name": "python",
   "nbconvert_exporter": "python",
   "pygments_lexer": "ipython3",
   "version": "3.5.2"
  }
 },
 "nbformat": 4,
 "nbformat_minor": 2
}
