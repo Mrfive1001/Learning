{
 "cells": [
  {
   "cell_type": "markdown",
   "metadata": {},
   "source": [
    "# 在Jupyter中使用LaTex编辑数学公式\n",
    "> Jupyter的强大之处在于他可以将各种格式的文档融合，包括代码、图片、markdown格式文字以及数学公式。而数学公式又是非常重要的一个部分，在Jupyter中使用mathjax来解析LaTex中的公式。\n",
    "\n",
    "这里总结的主要是一些基础性快速上手的特性。"
   ]
  },
  {
   "cell_type": "markdown",
   "metadata": {},
   "source": [
    "## 1. 基本概念\n",
    "* 行内公式  \n",
    "在一行中显示的公式，使用单dollar符号,前后没有空格\n",
    "例如 $y=mx+b$ 是一条直线。\n",
    "* 独立公式\n",
    "单独一行的公式，使用双dollar符号 $$y = mx+b$$"
   ]
  },
  {
   "cell_type": "markdown",
   "metadata": {},
   "source": [
    "## 2. 上标和下标\n",
    "使用^表示上标，_表示下标例如：$$(10_5)^2$$以及$${10_5}^2$$"
   ]
  },
  {
   "cell_type": "markdown",
   "metadata": {},
   "source": [
    "## 3. 常用命令\n",
    "在一些单词前面加上\\表示特殊意义例如\\sqrt{2\\pi},$$\\sqrt{\\frac{2\\pi}{5}}$$\n",
    "除此之外有一些常见上标：\n",
    "* 表示平均值的 单个字母的$\\bar x$,多个字母的$\\overline{abc}$\n",
    "* 表示导数的 $\\dot x \\ddot x $\n",
    "* 表示估计值的 单个字母的$\\hat x$，多个字母的$\\widehat{abc}$\n",
    "* 表示向量的 $\\vec{yx}$"
   ]
  },
  {
   "cell_type": "markdown",
   "metadata": {},
   "source": [
    "## 4. 常用一些字母\n",
    "和上面的类似，我们在单词前面加上\\表示特殊含义例如$$\\alpha\\beta\\sin(xy)$$\n",
    "更多的含义见[这里](http://oeis.org/wiki/List_of_LaTeX_mathematical_symbols)"
   ]
  },
  {
   "cell_type": "markdown",
   "metadata": {},
   "source": [
    "## 5. 添加空格\n",
    "LaTex自动忽略空格，如果我们实在想要空格的话可以使用\\, \\: \\; 来分别进行小中大空格的改变例如$$\\int f(x) dx$$和$$\\int f(x) \\:\\;dx$$"
   ]
  },
  {
   "cell_type": "markdown",
   "metadata": {},
   "source": [
    "## 6. 小技巧\n",
    "使用\\加特殊符号来实际显示特殊符号，例如\\{\\}，而\\\\是用来换行的，所以如果想要\\的话，使用`\\"
   ]
  },
  {
   "cell_type": "markdown",
   "metadata": {},
   "source": [
    "## 结束语\n",
    "利用这么几个规则基本上可以解决在Jupyter中使用公式的问题了，另外注意所有符号都是在英文格式下输入。\n"
   ]
  },
  {
   "cell_type": "markdown",
   "metadata": {},
   "source": [
    "## 参考资料\n",
    "[A Primer on Using LaTeX in Jupyter Notebooks](http://data-blog.udacity.com/posts/2016/10/latex-primer/)"
   ]
  }
 ],
 "metadata": {
  "kernelspec": {
   "display_name": "Python 3",
   "language": "python",
   "name": "python3"
  },
  "language_info": {
   "codemirror_mode": {
    "name": "ipython",
    "version": 3.0
   },
   "file_extension": ".py",
   "mimetype": "text/x-python",
   "name": "python",
   "nbconvert_exporter": "python",
   "pygments_lexer": "ipython3",
   "version": "3.6.0"
  }
 },
 "nbformat": 4,
 "nbformat_minor": 0
}